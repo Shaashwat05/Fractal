{
 "nbformat": 4,
 "nbformat_minor": 2,
 "metadata": {
  "language_info": {
   "name": "python",
   "codemirror_mode": {
    "name": "ipython",
    "version": 3
   },
   "version": "3.6.9-final"
  },
  "orig_nbformat": 2,
  "file_extension": ".py",
  "mimetype": "text/x-python",
  "name": "python",
  "npconvert_exporter": "python",
  "pygments_lexer": "ipython3",
  "version": 3,
  "kernelspec": {
   "name": "python36964bitc14b080313334961b23a3bac8d6445f1",
   "display_name": "Python 3.6.9 64-bit"
  }
 },
 "cells": [
  {
   "cell_type": "code",
   "execution_count": 1,
   "metadata": {},
   "outputs": [
    {
     "name": "stderr",
     "output_type": "stream",
     "text": "Using TensorFlow backend.\n/home/sagnik106/.local/lib/python3.6/site-packages/tensorflow/python/framework/dtypes.py:516: FutureWarning: Passing (type, 1) or '1type' as a synonym of type is deprecated; in a future version of numpy, it will be understood as (type, (1,)) / '(1,)type'.\n  _np_qint8 = np.dtype([(\"qint8\", np.int8, 1)])\n/home/sagnik106/.local/lib/python3.6/site-packages/tensorflow/python/framework/dtypes.py:517: FutureWarning: Passing (type, 1) or '1type' as a synonym of type is deprecated; in a future version of numpy, it will be understood as (type, (1,)) / '(1,)type'.\n  _np_quint8 = np.dtype([(\"quint8\", np.uint8, 1)])\n/home/sagnik106/.local/lib/python3.6/site-packages/tensorflow/python/framework/dtypes.py:518: FutureWarning: Passing (type, 1) or '1type' as a synonym of type is deprecated; in a future version of numpy, it will be understood as (type, (1,)) / '(1,)type'.\n  _np_qint16 = np.dtype([(\"qint16\", np.int16, 1)])\n/home/sagnik106/.local/lib/python3.6/site-packages/tensorflow/python/framework/dtypes.py:519: FutureWarning: Passing (type, 1) or '1type' as a synonym of type is deprecated; in a future version of numpy, it will be understood as (type, (1,)) / '(1,)type'.\n  _np_quint16 = np.dtype([(\"quint16\", np.uint16, 1)])\n/home/sagnik106/.local/lib/python3.6/site-packages/tensorflow/python/framework/dtypes.py:520: FutureWarning: Passing (type, 1) or '1type' as a synonym of type is deprecated; in a future version of numpy, it will be understood as (type, (1,)) / '(1,)type'.\n  _np_qint32 = np.dtype([(\"qint32\", np.int32, 1)])\n/home/sagnik106/.local/lib/python3.6/site-packages/tensorflow/python/framework/dtypes.py:525: FutureWarning: Passing (type, 1) or '1type' as a synonym of type is deprecated; in a future version of numpy, it will be understood as (type, (1,)) / '(1,)type'.\n  np_resource = np.dtype([(\"resource\", np.ubyte, 1)])\n/home/sagnik106/.local/lib/python3.6/site-packages/tensorboard/compat/tensorflow_stub/dtypes.py:541: FutureWarning: Passing (type, 1) or '1type' as a synonym of type is deprecated; in a future version of numpy, it will be understood as (type, (1,)) / '(1,)type'.\n  _np_qint8 = np.dtype([(\"qint8\", np.int8, 1)])\n/home/sagnik106/.local/lib/python3.6/site-packages/tensorboard/compat/tensorflow_stub/dtypes.py:542: FutureWarning: Passing (type, 1) or '1type' as a synonym of type is deprecated; in a future version of numpy, it will be understood as (type, (1,)) / '(1,)type'.\n  _np_quint8 = np.dtype([(\"quint8\", np.uint8, 1)])\n/home/sagnik106/.local/lib/python3.6/site-packages/tensorboard/compat/tensorflow_stub/dtypes.py:543: FutureWarning: Passing (type, 1) or '1type' as a synonym of type is deprecated; in a future version of numpy, it will be understood as (type, (1,)) / '(1,)type'.\n  _np_qint16 = np.dtype([(\"qint16\", np.int16, 1)])\n/home/sagnik106/.local/lib/python3.6/site-packages/tensorboard/compat/tensorflow_stub/dtypes.py:544: FutureWarning: Passing (type, 1) or '1type' as a synonym of type is deprecated; in a future version of numpy, it will be understood as (type, (1,)) / '(1,)type'.\n  _np_quint16 = np.dtype([(\"quint16\", np.uint16, 1)])\n/home/sagnik106/.local/lib/python3.6/site-packages/tensorboard/compat/tensorflow_stub/dtypes.py:545: FutureWarning: Passing (type, 1) or '1type' as a synonym of type is deprecated; in a future version of numpy, it will be understood as (type, (1,)) / '(1,)type'.\n  _np_qint32 = np.dtype([(\"qint32\", np.int32, 1)])\n/home/sagnik106/.local/lib/python3.6/site-packages/tensorboard/compat/tensorflow_stub/dtypes.py:550: FutureWarning: Passing (type, 1) or '1type' as a synonym of type is deprecated; in a future version of numpy, it will be understood as (type, (1,)) / '(1,)type'.\n  np_resource = np.dtype([(\"resource\", np.ubyte, 1)])\n"
    }
   ],
   "source": [
    "import cv2\n",
    "import numpy as np\n",
    "import glob\n",
    "from sklearn.preprocessing import OneHotEncoder\n",
    "from keras.layers import Conv2D, MaxPool2D, BatchNormalization, Flatten, Dense\n",
    "from keras.optimizers import Adam\n",
    "from keras.models import Sequential\n",
    "from tensordash.tensordash import Tensordash\n",
    "import tensorflow as tf"
   ]
  },
  {
   "cell_type": "code",
   "execution_count": 2,
   "metadata": {},
   "outputs": [
    {
     "name": "stdout",
     "output_type": "stream",
     "text": "melanoma : 2900\n\nnevus : 3660\n\nseborrheic_keratosis : 2790\n\n"
    }
   ],
   "source": [
    "key=['melanoma','nevus','seborrheic_keratosis']\n",
    "x=list()\n",
    "y=list()\n",
    "for j in key:\n",
    "    l=glob.glob('dataset/train/%s_new/*.jpg'%(j))\n",
    "    c=1\n",
    "    for i in l:\n",
    "        a=cv2.imread(i,1)\n",
    "        a=cv2.resize(a,(128,128))\n",
    "        x.append(a)\n",
    "        y.append(j)\n",
    "        print(\"%s : %d\"%(j,c), end='\\r')\n",
    "        c+=1\n",
    "    print('\\n')\n",
    "x=np.asarray(x)\n",
    "y0=np.asarray(y)"
   ]
  },
  {
   "cell_type": "code",
   "execution_count": 3,
   "metadata": {},
   "outputs": [
    {
     "name": "stdout",
     "output_type": "stream",
     "text": "melanoma : 291\n\nnevus : 367\n\nseborrheic_keratosis : 280\n\n"
    }
   ],
   "source": [
    "key=['melanoma','nevus','seborrheic_keratosis']\n",
    "x0=list()\n",
    "y1=list()\n",
    "for j in key:\n",
    "    l=glob.glob('dataset/train/%s/*.jpg'%(j))\n",
    "    c=1\n",
    "    for i in l:\n",
    "        a=cv2.imread(i,1)\n",
    "        a=cv2.resize(a,(128,128))\n",
    "        x0.append(a)\n",
    "        y1.append(j)\n",
    "        print(\"%s : %d\"%(j,c), end='\\r')\n",
    "        c+=1\n",
    "    print('\\n')\n",
    "xval=np.asarray(x0)\n",
    "yval=np.asarray(y1)"
   ]
  },
  {
   "cell_type": "code",
   "execution_count": 4,
   "metadata": {},
   "outputs": [],
   "source": [
    "enc=OneHotEncoder()\n",
    "enc.fit(y0.reshape((-1,1)))\n",
    "y=enc.transform(y0.reshape((-1,1))).toarray()\n",
    "x=np.float32(x)/255"
   ]
  },
  {
   "cell_type": "code",
   "execution_count": 5,
   "metadata": {},
   "outputs": [],
   "source": [
    "enc=OneHotEncoder()\n",
    "enc.fit(yval.reshape((-1,1)))\n",
    "yval=enc.transform(yval.reshape((-1,1))).toarray()\n",
    "xval=np.float32(xval)/255"
   ]
  },
  {
   "cell_type": "code",
   "execution_count": 11,
   "metadata": {},
   "outputs": [],
   "source": [
    "np.save('x.npy',x)\n",
    "np.save('y.npy',y)"
   ]
  },
  {
   "cell_type": "code",
   "execution_count": 6,
   "metadata": {},
   "outputs": [],
   "source": [
    "def Model():\n",
    "    m=Sequential()\n",
    "    m.add(Conv2D(16,3,input_shape=(128,128,3) ,padding='valid'))\n",
    "    m.add(MaxPool2D((2,2)))\n",
    "    m.add(BatchNormalization())\n",
    "    m.add(Conv2D(32,3, padding='valid'))\n",
    "    m.add(MaxPool2D((2,2)))\n",
    "    m.add(BatchNormalization())\n",
    "    m.add(Conv2D(64,3, padding='valid'))\n",
    "    m.add(MaxPool2D((2,2)))\n",
    "    m.add(BatchNormalization())\n",
    "    m.add(Flatten())\n",
    "    m.add(Dense(1024, activation='relu'))\n",
    "    m.add(Dense(3, activation='softmax'))\n",
    "    return m"
   ]
  },
  {
   "cell_type": "code",
   "execution_count": 7,
   "metadata": {},
   "outputs": [
    {
     "name": "stdout",
     "output_type": "stream",
     "text": "WARNING:tensorflow:From /home/sagnik106/.local/lib/python3.6/site-packages/keras/backend/tensorflow_backend.py:4070: The name tf.nn.max_pool is deprecated. Please use tf.nn.max_pool2d instead.\n\nModel: \"sequential_1\"\n_________________________________________________________________\nLayer (type)                 Output Shape              Param #   \n=================================================================\nconv2d_1 (Conv2D)            (None, 126, 126, 16)      448       \n_________________________________________________________________\nmax_pooling2d_1 (MaxPooling2 (None, 63, 63, 16)        0         \n_________________________________________________________________\nbatch_normalization_1 (Batch (None, 63, 63, 16)        64        \n_________________________________________________________________\nconv2d_2 (Conv2D)            (None, 61, 61, 32)        4640      \n_________________________________________________________________\nmax_pooling2d_2 (MaxPooling2 (None, 30, 30, 32)        0         \n_________________________________________________________________\nbatch_normalization_2 (Batch (None, 30, 30, 32)        128       \n_________________________________________________________________\nconv2d_3 (Conv2D)            (None, 28, 28, 64)        18496     \n_________________________________________________________________\nmax_pooling2d_3 (MaxPooling2 (None, 14, 14, 64)        0         \n_________________________________________________________________\nbatch_normalization_3 (Batch (None, 14, 14, 64)        256       \n_________________________________________________________________\nflatten_1 (Flatten)          (None, 12544)             0         \n_________________________________________________________________\ndense_1 (Dense)              (None, 1024)              12846080  \n_________________________________________________________________\ndense_2 (Dense)              (None, 3)                 3075      \n=================================================================\nTotal params: 12,873,187\nTrainable params: 12,872,963\nNon-trainable params: 224\n_________________________________________________________________\n"
    }
   ],
   "source": [
    "model=Model()\n",
    "model.compile(optimizer=Adam(learning_rate=0.0001), loss='categorical_crossentropy', metrics=['accuracy'])\n",
    "model.summary()"
   ]
  },
  {
   "cell_type": "code",
   "execution_count": 8,
   "metadata": {},
   "outputs": [],
   "source": [
    "td=Tensordash(email='sagnik106@gmail.com', password='ZeusTrident3',ModelName=\"C2C\")"
   ]
  },
  {
   "cell_type": "code",
   "execution_count": 9,
   "metadata": {},
   "outputs": [
    {
     "name": "stdout",
     "output_type": "stream",
     "text": "WARNING:tensorflow:From /home/sagnik106/.local/lib/python3.6/site-packages/keras/backend/tensorflow_backend.py:422: The name tf.global_variables is deprecated. Please use tf.compat.v1.global_variables instead.\n\nTrain on 9350 samples, validate on 938 samples\nEpoch 1/6\n9350/9350 [==============================] - 94s 10ms/step - loss: 1.1524 - accuracy: 0.6323 - val_loss: 1.5268 - val_accuracy: 0.3987\nEpoch 2/6\n9350/9350 [==============================] - 92s 10ms/step - loss: 0.5350 - accuracy: 0.7948 - val_loss: 0.7640 - val_accuracy: 0.7228\nEpoch 3/6\n9350/9350 [==============================] - 95s 10ms/step - loss: 0.2972 - accuracy: 0.8938 - val_loss: 0.6467 - val_accuracy: 0.7569\nEpoch 4/6\n9350/9350 [==============================] - 97s 10ms/step - loss: 0.1627 - accuracy: 0.9510 - val_loss: 0.6376 - val_accuracy: 0.7814\nEpoch 5/6\n9350/9350 [==============================] - 101s 11ms/step - loss: 0.0913 - accuracy: 0.9800 - val_loss: 0.6145 - val_accuracy: 0.7964\nEpoch 6/6\n9350/9350 [==============================] - 98s 10ms/step - loss: 0.0447 - accuracy: 0.9945 - val_loss: 0.6399 - val_accuracy: 0.7793\n"
    }
   ],
   "source": [
    "with tf.device('/gpu:0'):\n",
    "    model.fit(x,y,epochs=6,batch_size=32, validation_data=(xval,yval), callbacks=[td])"
   ]
  },
  {
   "cell_type": "code",
   "execution_count": 10,
   "metadata": {},
   "outputs": [
    {
     "data": {
      "text/plain": "(9350, 128, 128, 3)"
     },
     "execution_count": 10,
     "metadata": {},
     "output_type": "execute_result"
    }
   ],
   "source": [
    "x.shape"
   ]
  },
  {
   "cell_type": "code",
   "execution_count": 11,
   "metadata": {},
   "outputs": [],
   "source": [
    "model.save('model.h5')"
   ]
  },
  {
   "cell_type": "code",
   "execution_count": null,
   "metadata": {},
   "outputs": [],
   "source": []
  }
 ]
}